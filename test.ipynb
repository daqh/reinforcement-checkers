{
 "cells": [
  {
   "cell_type": "code",
   "execution_count": null,
   "metadata": {},
   "outputs": [
    {
     "name": "stdout",
     "output_type": "stream",
     "text": [
      "pygame 2.6.1 (SDL 2.28.4, Python 3.10.12)\n",
      "Hello from the pygame community. https://www.pygame.org/contribute.html\n"
     ]
    }
   ],
   "source": [
    "import pygame\n",
    "from pygame import gfxdraw\n",
    "import pygame.surfarray\n",
    "import gymnasium as gym\n",
    "import matplotlib.pyplot as plt"
   ]
  },
  {
   "cell_type": "code",
   "execution_count": null,
   "metadata": {},
   "outputs": [],
   "source": [
    "class CheckersBoard:\n",
    "\n",
    "    def __init__(self):\n",
    "        self.board = [[0 for _ in range(8)] for _ in range(8)]\n"
   ]
  },
  {
   "cell_type": "code",
   "execution_count": 32,
   "metadata": {},
   "outputs": [],
   "source": [
    "class CheckersEnv(gym.Env):\n",
    "\n",
    "    def render(self, mode: str = None):\n",
    "        if mode == None:\n",
    "            return\n",
    "        assert mode in ['human', 'rgb_array'], 'mode must be either \"human\" or \"rgb_array\"'\n",
    "        WIDTH, HEIGHT = 800, 800\n",
    "        if mode == 'human':\n",
    "            pygame.init()\n",
    "            s = pygame.display.set_mode((WIDTH, HEIGHT))\n",
    "        else:\n",
    "            s = pygame.Surface((WIDTH, HEIGHT))\n",
    "        s.fill((22, 36, 71))\n",
    "\n",
    "        for i in range(8):\n",
    "            for j in range(8):\n",
    "                if (i + j) % 2 == 0:\n",
    "                    gfxdraw.filled_polygon(s, [(i * WIDTH // 8, j * HEIGHT // 8),\n",
    "                                                    ((i + 1) * WIDTH // 8, j * HEIGHT // 8),\n",
    "                                                    ((i + 1) * WIDTH // 8, (j + 1) * HEIGHT // 8),\n",
    "                                                    (i * WIDTH // 8, (j + 1) * HEIGHT // 8)], (200, 200, 200))\n",
    "                    \n",
    "                    # TODO: Draw pieces\n",
    "        \n",
    "        if mode == 'human':\n",
    "            pygame.display.flip()\n",
    "            return None\n",
    "        else:\n",
    "            return pygame.surfarray.pixels3d(s)\n",
    "    \n",
    "    def close(self):\n",
    "        pygame.quit()"
   ]
  },
  {
   "cell_type": "code",
   "execution_count": 33,
   "metadata": {},
   "outputs": [],
   "source": [
    "env = CheckersEnv()\n",
    "# plt.imshow(env.render('rgb_array'))\n",
    "env.render('human')"
   ]
  },
  {
   "cell_type": "code",
   "execution_count": 34,
   "metadata": {},
   "outputs": [],
   "source": [
    "env.close()"
   ]
  }
 ],
 "metadata": {
  "kernelspec": {
   "display_name": ".venv",
   "language": "python",
   "name": "python3"
  },
  "language_info": {
   "codemirror_mode": {
    "name": "ipython",
    "version": 3
   },
   "file_extension": ".py",
   "mimetype": "text/x-python",
   "name": "python",
   "nbconvert_exporter": "python",
   "pygments_lexer": "ipython3",
   "version": "3.12.3"
  }
 },
 "nbformat": 4,
 "nbformat_minor": 2
}
